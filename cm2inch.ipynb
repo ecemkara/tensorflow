{
  "nbformat": 4,
  "nbformat_minor": 0,
  "metadata": {
    "colab": {
      "name": "cm2inch.ipynb",
      "provenance": [],
      "collapsed_sections": [],
      "include_colab_link": true
    },
    "kernelspec": {
      "display_name": "Python 3",
      "name": "python3"
    }
  },
  "cells": [
    {
      "cell_type": "markdown",
      "metadata": {
        "id": "view-in-github",
        "colab_type": "text"
      },
      "source": [
        "<a href=\"https://colab.research.google.com/github/ecemkara/tensorflow/blob/master/cm2inch.ipynb\" target=\"_parent\"><img src=\"https://colab.research.google.com/assets/colab-badge.svg\" alt=\"Open In Colab\"/></a>"
      ]
    },
    {
      "cell_type": "code",
      "metadata": {
        "id": "Kl3Fiqj1ts_W",
        "colab_type": "code",
        "colab": {}
      },
      "source": [
        "\n",
        "\n",
        "num = float (input(\" Santimetreyi Giriniz \"))\n",
        "\n",
        "\n",
        "# Cm'den inç'e dönüştürme\n",
        "\"\"\" 1 inch = 2.54 centimeters\"\"\"\n",
        "inc = num/2.54\n",
        "\n",
        "\n",
        "# Sonuç\n",
        "print(\"İnç Olarak Karşılığı => \", inc)\n",
        "\n",
        "\n",
        "# Cm inç'e dönüştürme\n",
        "\"\"\" 1 inch = 2.54 centimeters\"\"\"\n",
        "inc = num/2.54\n",
        "\n"
      ],
      "execution_count": 0,
      "outputs": []
    }
  ]
}