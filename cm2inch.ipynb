{
  "nbformat": 4,
  "nbformat_minor": 0,
  "metadata": {
    "colab": {
      "name": "cm2inch.ipynb",
      "provenance": [],
      "authorship_tag": "ABX9TyPuzLiazkBNgR9B/dKVRQJq",
      "include_colab_link": true
    },
    "kernelspec": {
      "name": "python3",
      "display_name": "Python 3"
    }
  },
  "cells": [
    {
      "cell_type": "markdown",
      "metadata": {
        "id": "view-in-github",
        "colab_type": "text"
      },
      "source": [
        "<a href=\"https://colab.research.google.com/github/ecemkara/tensorflow/blob/master/cm2inch.ipynb\" target=\"_parent\"><img src=\"https://colab.research.google.com/assets/colab-badge.svg\" alt=\"Open In Colab\"/></a>"
      ]
    },
    {
      "cell_type": "code",
      "metadata": {
        "id": "aeizcfhn4y_x",
        "colab_type": "code",
        "colab": {
          "base_uri": "https://localhost:8080/",
          "height": 68
        },
        "outputId": "92665140-35ae-4acd-b125-342d48337e1d"
      },
      "source": [
        "num = float (input(\" Santimetreyi Giriniz \"))\n",
        "\n",
        "\n",
        "# Cm'den inç'e dönüştürme\n",
        "\"\"\" 1 inch = 2.54 centimeters\"\"\"\n",
        "inc = num/2.54\n",
        "\n",
        "\n",
        "# Sonuç\n",
        "print(\"İnç Olarak Karşılığı => \", inc)\n",
        "\n",
        "\n",
        "\n",
        "\n",
        "print(\"Tamamlandı\")\n",
        "\n"
      ],
      "execution_count": 5,
      "outputs": [
        {
          "output_type": "stream",
          "text": [
            " Santimetreyi Giriniz 12\n",
            "İnç Olarak Karşılığı =>  4.724409448818897\n",
            "Tamamlandı\n"
          ],
          "name": "stdout"
        }
      ]
    }
  ]
}