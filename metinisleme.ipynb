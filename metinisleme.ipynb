{
  "nbformat": 4,
  "nbformat_minor": 0,
  "metadata": {
    "colab": {
      "name": "cm2inch.ipynb",
      "provenance": [],
      "collapsed_sections": [],
      "include_colab_link": true
    },
    "kernelspec": {
      "display_name": "Python 3",
      "name": "python3"
    }
  },
  "cells": [
    {
      "cell_type": "markdown",
      "metadata": {
        "id": "view-in-github",
        "colab_type": "text"
      },
      "source": [
        "<a href=\"https://colab.research.google.com/github/ecemkara/tensorflow/blob/master/cm2inch.ipynb\" target=\"_parent\"><img src=\"https://colab.research.google.com/assets/colab-badge.svg\" alt=\"Open In Colab\"/></a>"
      ]
    },
    {
      "cell_type": "code",
      "metadata": {
        "colab_type": "code",
        "id": "FeM-v7n4DCLq",
        "colab": {}
      },
      "source": [
        "from google.colab import files\n",
        "import string\n"
      ],
      "execution_count": 0,
      "outputs": []
    },
    {
      "cell_type": "code",
      "metadata": {
        "id": "0pcafpHUffQF",
        "colab_type": "code",
        "colab": {
          "resources": {
            "http://localhost:8080/nbextensions/google.colab/files.js": {
              "data": "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",
              "ok": true,
              "headers": [
                [
                  "content-type",
                  "application/javascript"
                ]
              ],
              "status": 200,
              "status_text": ""
            }
          },
          "base_uri": "https://localhost:8080/",
          "height": 74
        },
        "outputId": "593c65ac-6b3c-4cf1-8eb7-dfe8380b96ee"
      },
      "source": [
        "yuklenenDosya = files.upload()"
      ],
      "execution_count": 67,
      "outputs": [
        {
          "output_type": "display_data",
          "data": {
            "text/html": [
              "\n",
              "     <input type=\"file\" id=\"files-e4022c7f-6993-45b6-9711-8fab04b2ac17\" name=\"files[]\" multiple disabled />\n",
              "     <output id=\"result-e4022c7f-6993-45b6-9711-8fab04b2ac17\">\n",
              "      Upload widget is only available when the cell has been executed in the\n",
              "      current browser session. Please rerun this cell to enable.\n",
              "      </output>\n",
              "      <script src=\"/nbextensions/google.colab/files.js\"></script> "
            ],
            "text/plain": [
              "<IPython.core.display.HTML object>"
            ]
          },
          "metadata": {
            "tags": []
          }
        },
        {
          "output_type": "stream",
          "text": [
            "Saving w.txt to w (3).txt\n"
          ],
          "name": "stdout"
        }
      ]
    },
    {
      "cell_type": "code",
      "metadata": {
        "id": "CIx2_e-JfitQ",
        "colab_type": "code",
        "colab": {
          "base_uri": "https://localhost:8080/",
          "height": 360
        },
        "outputId": "781b3237-9845-47e8-9f84-96cac5b0d449"
      },
      "source": [
        "makale = open(\"w.txt\", \"rt\")\n",
        "okunanmakale = makale.read()\n",
        "okunanmakale = okunanmakale.lower()\n",
        "makale.close()\n",
        "print(okunanmakale)\n",
        "\n"
      ],
      "execution_count": 68,
      "outputs": [
        {
          "output_type": "stream",
          "text": [
            "﻿bireylerin çeşitli konularda gereksinim duydukları bilgilerin kütüphane, arşiv, dokümantasyon merkezi ve bilgi merkezi gibi kurumlar tarafından toplanması, kayıt altına alınması, korunması, düzenlenmesi ve basılı elektronik ortamlarda hizmete sunulması ile ilgili ilke, işlem ve hizmetleri araştıran-geliştiren ve öğreten bir bilim alanıdır. bölüm, bilginin gelişiminde öncülük etmek ve bilgi çağında önderlik edecek profesyonel kütüphanecileri, bilgi yöneticilerini ve arşivcileri eğitmek amacıyla kurulmuştur.\n",
            "\n",
            "bölümün amacı başlangıçta kütüphaneci yetiştirmek iken, sonraki tarihlerde bu amacının kapsamını genişletmiştir. günümüzde bilgi ve iletişim teknolojilerinde meydana gelen gelişmeler, bilginin işlenebilme, erişilebilme ve iletilebilme kapasitesini artırmış ve hızlandırmıştır. ağlar sayesinde birbirine bağlanabilen bilgisayarlar aracılığı ile dünya küçülmüş, küreselleşme olgusu yaygınlık kazanmıştır. teknolojinin ve internet’in sunduğu olanaklar, ağa aktarılan bilgi miktarı ile bilginin erişim ve dolaşım hızını büyük ölçüde artırmıştır. bu durum, ekonomik ve toplumsal yapıyı derinden etkileyen hızlı değişim ve dönüşümlere yol açmaktadır. i̇çinde bulunduğumuz çağı simgeleyen ‘bilgi’, doğal olarak bu çağa özgü toplumun, niteliğini, iş görme yöntemleri ve iş süreçlerini de değiştirmektedir. bilgi toplumunu oluşturacak bireylerin sorun çözme ve karar verme aşamalarında bilgiye gereksinim duyan, gereksinim duyduğu bilgiye erişebilen, onu yorumlayabilen, kullanabilen ve edindiği bilgiyi temel alarak yeni bilgiler üretebilen ‘bilgi okuryazarları’ olmaları öngörülmektedir. teknolojinin değiştirdiği bir toplumda, bireylerin bilgi okuryazarı olma zorunluluğu, kütüphaneleri ve diğer bilgi merkezlerini, bilgi okuryazarlığını öğreten bir eğitim merkezi haline dönüştürmüştür. kütüphaneciler, günümüzde, geleneksel kütüphanecilik işlemlerinin yanı sıra bilgi paylaşımı ve yayımını artırmak için bilgi teknolojilerinin kullanımı yollarını da öğreten kişiler olmuşlardır.\n",
            "\n",
            "i̇lgili üniversitelerin bby bölümleri‘nde 2002-2003 öğretim yılına kadar, dokümantasyon-enformasyon anabilim dalı, arşivcilik anabilim dalı ve kütüphanecilik anabilim dalları olarak üç ayrı isim/bölüm altında eğitim verilmekteydi; fakat günün bilgiye yönelik gelişmelerini yakından izlemeyi ilke edinen bölüm, işlevini yansıtmakta yetersiz kalan ismi; bilgi ile ilgili tüm güncel ögeleri, yeni teknikleri, teknolojileri, kullanıcıları ve kurumları içerecek şekilde değiştirilmiş ve yüksek öğretim kurulu’nun kararı ile üç anabilim dalı birleştirilerek yeni adı “bilgi ve belge yönetimi bölümü” olan bölüm 2002-2003 öğretim yılından itibaren bölüm düzeyinde ve eşit ağırlıklı puan türüne göre öğrenci almaya başlamıştır. bilgi ve belge yönetimi bölümü’nün amacı, bilgi ve/veya bilgi kaynaklarının derlenmesi, düzenlenmesi, erişimi ve yayımı sürecini içeren “bilgi yönetimi” işlevini gerçekleştirecek insan gücünü yetiştirmektir. bu insan gücünün kütüphaneler, arşivler, dokümantasyon ve enformasyon merkezlerinin tümünü içine alan bilgi merkezlerini yönetebilecek, bilgi ve iletişim teknolojilerini yoğun olarak kullanabilecek ve bu kullanımın yol ve yöntemlerini kullanıcılara öğretebilecek, ayrıca bilgi bilimin düzenleme ve erişimle ilgili alanlarına iş ve yönetim yaklaşımıyla girebilecek bilgi ve belge yöneticileri olarak yetiştirilmesi hedeflenmiştir.\n",
            "\n",
            "bilgi ve belge yönetimi bölümü (bby) çalışma alanları:\n",
            "\n",
            "“bilgi ve belge yönetimi bölümü” mezunları, aldıkları dersler doğrultusunda, başta ülkemizdeki kütüphanelerde olmak üzere (üniversite, halk, çocuk, okul kütüphaneleri, milli kütüphane, özel araştırma kütüphaneleri), çeşitli bilgi merkezlerinde (enformasyon ve dokümantasyon merkezleri), devlet arşivleri genel müdürlüğü ile kurum ve kuruluş arşivlerinde (örn. kpss ile tapu ve kadastro genel müdürlüğü’ne arşiv memuru olarak atanabilirsiniz) çalışma olanağı bulabildikleri gibi, internet servis birimlerinin çeşitli kademelerinde (web sayfası tasarımı ve düzenlenmesi, tarama motorları oluşturma ve yönetim işlemleri), kurum ve kuruluşların veri tabanı tasarım ve yönetim birimlerinde, basılı ve/veya elektronik ortamda dizinleme ve öz hazırlama hizmeti sunan ya da bu hizmetlerin dağıtımı işlevini gerçekleştiren kuruluşlarda bilgisayar yazılım şirketlerinde, kurum ve kuruluşların ar-ge birimlerinde çalışma olanağı bulabilmektedir.\n",
            "\n",
            "bu çalışma ortamlarının veya yapılan işin türüne göre aldıkları unvanlar veya kadrolar arasında; kütüphaneci, bilgi uzmanı, arşiv memuru, bilgisayar işletmeni, arşivist, dokümantalist, akademik uzman, sistem analisti, halkla ilişkiler ve pazarlama elemanı, web tasarımcısı gibileri yer almaktadır. mezunlar ayrıca, çeşitli kademelerde yönetici olarak da görev yapabilmektedirler.\n",
            "\n",
            "bilgi ve belge yönetimi iş ilanlarını inceleyiniz:\n",
            "bby güncel i̇ş i̇lanları | bby i̇ş i̇lanları arşivi\n",
            "bilgi ve belge yönetimi bölümü (bby) kpss atamaları:\n",
            "\n",
            "aşağıdaki tabloda bilgi ve belge yönetimi bölümü’nden mezun olup kpss ile devlete atananların sayıları verilmiştir. devlet kadrolarında genel olarak şu unvanlara göre kpss’den alım yapılmaktadır; kütüphaneci, memur, enformasyon memuru, bilgisayar işletmeni, veri hazırlama ve kontrol işletmeni, arşiv memuru.\n",
            "\n",
            "ösym kpss tercih kılavuzunda yer alan nitelik kodlarından 4099 kodu (bilgi ve belge yönetimi, dokümantasyon ve enformasyon, arşivcilik veya kütüphanecilik lisans programından mezun olmak) ile bu unvanlara ayrılan kadrolar tercih edilmektedir.\n"
          ],
          "name": "stdout"
        }
      ]
    },
    {
      "cell_type": "code",
      "metadata": {
        "id": "aty6BTd6gpPd",
        "colab_type": "code",
        "colab": {
          "base_uri": "https://localhost:8080/",
          "height": 34
        },
        "outputId": "c7e16caa-b469-456e-8980-172c88b57b62"
      },
      "source": [
        "anahtarkelimeler = [\n",
        "                    \"bilgi\",\n",
        "                    \"belge\", \n",
        "                    \"açık\",\n",
        "                    \"erişim\", \n",
        "                    \"bilim\", \n",
        "                    \"büyük\",\n",
        "                    \"veri\", \n",
        "                    \"semantik\", \n",
        "                    \"teknoloji\", \n",
        "                    \"makine\",\n",
        "                    \"öğrenmesi\", \n",
        "                    \"yapay\",\n",
        "                    \"zeka\"\n",
        "]\n",
        "print(anahtarkelimeler)"
      ],
      "execution_count": 69,
      "outputs": [
        {
          "output_type": "stream",
          "text": [
            "['bilgi', 'belge', 'açık', 'erişim', 'bilim', 'büyük', 'veri', 'semantik', 'teknoloji', 'makine', 'öğrenmesi', 'yapay', 'zeka']\n"
          ],
          "name": "stdout"
        }
      ]
    },
    {
      "cell_type": "code",
      "metadata": {
        "id": "JtlVKys3fm2c",
        "colab_type": "code",
        "colab": {
          "base_uri": "https://localhost:8080/",
          "height": 238
        },
        "outputId": "0098a082-9356-4c46-b921-d70bfad75776"
      },
      "source": [
        "for anahtarkelime in anahtarkelimeler:\n",
        "  sonuc = okunanmakale.count(anahtarkelime)\n",
        "  print(anahtarkelime+\": \" + str(sonuc))"
      ],
      "execution_count": 70,
      "outputs": [
        {
          "output_type": "stream",
          "text": [
            "bilgi: 44\n",
            "belge: 9\n",
            "açık: 0\n",
            "erişim: 3\n",
            "bilim: 6\n",
            "büyük: 1\n",
            "veri: 4\n",
            "semantik: 0\n",
            "teknoloji: 6\n",
            "makine: 0\n",
            "öğrenmesi: 0\n",
            "yapay: 0\n",
            "zeka: 0\n"
          ],
          "name": "stdout"
        }
      ]
    },
    {
      "cell_type": "code",
      "metadata": {
        "id": "On3axcGuftHy",
        "colab_type": "code",
        "colab": {
          "base_uri": "https://localhost:8080/",
          "height": 136
        },
        "outputId": "94864926-19b0-4417-c7f2-fc7fa4600b5e"
      },
      "source": [
        "\n",
        "anahtarkelimeler=[ 44,9,0,3,6,1,4,0,6,0,0,0,0]\n",
        "toplam=0\n",
        "ortalama=0\n",
        "print(\"Kullanılan Bağlantılı Anahtar Kelimelerin Sayısı\")\n",
        "for i in range(0,len(anahtarkelimeler)):\n",
        "      toplam+=anahtarkelimeler[i]\n",
        " \n",
        "      ortalama=toplam/len(anahtarkelimeler)\n",
        "  \n",
        "print('Toplam  : ',toplam)\n",
        "print(\"Anahtar  Kelime Kullanım Ortalaması\")\n",
        "print('Ortalama : ',ortalama)\n",
        "print(\"Anahtar Kelime Kullanım Yüzdesi\")\n",
        "print('Yüzde : ',toplam*ortalama/100)\n",
        "\n",
        "if toplam*ortalama/100 > 50:\n",
        "  print(\"İlişki vardır\")\n",
        "\n",
        "else:\n",
        "  print(\"İlişki yoktur.\")"
      ],
      "execution_count": 90,
      "outputs": [
        {
          "output_type": "stream",
          "text": [
            "Kullanılan Bağlantılı Anahtar Kelimelerin Sayısı\n",
            "Toplam  :  73\n",
            "Anahtar  Kelime Kullanım Ortalaması\n",
            "Ortalama :  5.615384615384615\n",
            "Anahtar Kelime Kullanım Yüzdesi\n",
            "Yüzde :  4.099230769230769\n",
            "İlişki yoktur.\n"
          ],
          "name": "stdout"
        }
      ]
    },
    {
      "cell_type": "markdown",
      "metadata": {
        "id": "4b7EuMBHos3y",
        "colab_type": "text"
      },
      "source": [
        ""
      ]
    },
    {
      "cell_type": "code",
      "metadata": {
        "id": "okUehZnNe1u2",
        "colab_type": "code",
        "colab": {}
      },
      "source": [
        ""
      ],
      "execution_count": 0,
      "outputs": []
    },
    {
      "cell_type": "markdown",
      "metadata": {
        "id": "mJqVrq-Le3P2",
        "colab_type": "text"
      },
      "source": [
        ""
      ]
    }
  ]
}
